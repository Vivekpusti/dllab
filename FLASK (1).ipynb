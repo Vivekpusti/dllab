{
  "cells": [
    {
      "cell_type": "code",
      "execution_count": null,
      "metadata": {
        "colab": {
          "base_uri": "https://localhost:8080/"
        },
        "id": "tJMBch6ccZyf",
        "outputId": "3b5a88ae-8616-4209-e062-d86ca29dff2f"
      },
      "outputs": [
        {
          "name": "stdout",
          "output_type": "stream",
          "text": [
            "Looking in indexes: https://pypi.org/simple, https://us-python.pkg.dev/colab-wheels/public/simple/\n",
            "Requirement already satisfied: pyngrok in /usr/local/lib/python3.7/dist-packages (5.1.0)\n",
            "Requirement already satisfied: PyYAML in /usr/local/lib/python3.7/dist-packages (from pyngrok) (6.0)\n"
          ]
        }
      ],
      "source": [
        "!pip install pyngrok"
      ]
    },
    {
      "cell_type": "code",
      "execution_count": null,
      "metadata": {
        "id": "5ZYnqJDtWlj1"
      },
      "outputs": [],
      "source": [
        "from numpy.core.fromnumeric import argmax\n",
        "def model_predict(img, model):\n",
        "  img = cv2.imread(img)\n",
        "  a = cv2.cvtColor(img, cv2.COLOR_BGR2GRAY)\n",
        "  imgg = cv2.resize(a,(28,28))\n",
        "  imgg = np.expand_dims(imgg,0)\n",
        "  pred = model.predict(imgg)\n",
        "  rs = [0,1,2,3,4,5,6,7,8,9]\n",
        "  result = rs[argmax(pred)]\n",
        "  return result"
      ]
    },
    {
      "cell_type": "code",
      "execution_count": null,
      "metadata": {
        "colab": {
          "background_save": true,
          "base_uri": "https://localhost:8080/"
        },
        "id": "SAvbZCzPrnMQ",
        "outputId": "b724b2ab-398b-41f9-fd3f-26306b54829f"
      },
      "outputs": [
        {
          "name": "stdout",
          "output_type": "stream",
          "text": [
            "To acces the Gloable link please click http://f243-34-86-152-118.ngrok.io\n",
            " * Serving Flask app \"__main__\" (lazy loading)\n",
            " * Environment: production\n",
            "\u001b[31m   WARNING: This is a development server. Do not use it in a production deployment.\u001b[0m\n",
            "\u001b[2m   Use a production WSGI server instead.\u001b[0m\n",
            " * Debug mode: off\n"
          ]
        },
        {
          "name": "stderr",
          "output_type": "stream",
          "text": [
            "INFO:werkzeug: * Running on http://127.0.0.1:5000/ (Press CTRL+C to quit)\n",
            "INFO:werkzeug:127.0.0.1 - - [09/Oct/2022 16:05:52] \"\u001b[37mGET / HTTP/1.1\u001b[0m\" 200 -\n",
            "INFO:werkzeug:127.0.0.1 - - [09/Oct/2022 16:05:53] \"\u001b[33mGET /favicon.ico HTTP/1.1\u001b[0m\" 404 -\n",
            "INFO:werkzeug:127.0.0.1 - - [09/Oct/2022 16:06:02] \"\u001b[37mPOST /predict HTTP/1.1\u001b[0m\" 200 -\n",
            "INFO:werkzeug:127.0.0.1 - - [09/Oct/2022 16:07:41] \"\u001b[37mPOST /predict HTTP/1.1\u001b[0m\" 200 -\n"
          ]
        }
      ],
      "source": [
        "import cv2, os\n",
        "import numpy as np\n",
        "from google.colab.patches import cv2_imshow\n",
        "from flask import Flask, render_template, request\n",
        "from pyngrok import ngrok\n",
        "from tensorflow.keras.models import load_model\n",
        "from keras.preprocessing.image import load_img\n",
        "from werkzeug.utils import secure_filename\n",
        "\n",
        "model = load_model(\"/content/CNN_Mnist.h5\")\n",
        "port_no = 5000\n",
        "\n",
        "app = Flask(__name__, template_folder='/content')\n",
        "ngrok.set_auth_token(\".........\") # your Authtoken\n",
        "public_url =  ngrok.connect(port_no).public_url\n",
        "\n",
        "@app.route(\"/\")\n",
        "def home():\n",
        "    # return f\"Running Flask on Google Colab!\"\n",
        "    return render_template(\"index.html\")\n",
        "\n",
        "@app.route('/predict', methods=['GET', 'POST'])\n",
        "def predict():\n",
        "    if request.method == 'POST':\n",
        "        # Get the file from post request\n",
        "        f = request.files['file']\n",
        "\n",
        "        # Save the file to ./uploads\n",
        "        basepath = os.path.dirname(\"/content/\")\n",
        "        file_path = os.path.join(basepath, secure_filename(f.filename))\n",
        "        f.save(file_path)\n",
        "\n",
        "        # Make prediction\n",
        "        preds = model_predict(file_path, model)\n",
        "\n",
        "        # Process your result for human\n",
        "        # pred_class = preds.argmax(axis=-1)            # Simple argmax\n",
        "        # pred_class = decode_predictions(preds, top=1)   # ImageNet Decode\n",
        "        # result = str(pred_class[0][0][1])               # Convert to string\n",
        "        return render_template('index.html', prediction_text = 'NUMBER: {}'.format(preds))\n",
        "    return None\n",
        "\n",
        "\n",
        "print(f\"To acces the Gloable link please click {public_url}\")\n",
        "app.run(port=port_no)"
      ]
    }
  ],
  "metadata": {
    "colab": {
      "collapsed_sections": [],
      "provenance": []
    },
    "kernelspec": {
      "display_name": "Python 3",
      "name": "python3"
    },
    "language_info": {
      "name": "python"
    }
  },
  "nbformat": 4,
  "nbformat_minor": 0
}